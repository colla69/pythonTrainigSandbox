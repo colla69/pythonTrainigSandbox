{
 "cells": [
  {
   "cell_type": "code",
   "execution_count": 3,
   "metadata": {},
   "outputs": [
    {
     "name": "stdout",
     "output_type": "stream",
     "text": [
      "pinging dashboard..\n",
      "done!\n",
      "\n"
     ]
    }
   ],
   "source": [
    "from apscheduler.schedulers.background import BlockingScheduler\n",
    "import mechanicalsoup\n",
    "import time\n",
    "\n",
    "scheduler = BlockingScheduler()\n",
    "job = None\n",
    "\n",
    "def ping_dash(*args, **kwargs):\n",
    "    link = \"https://dash.colarietitosti.info/ip/\"\n",
    "    browser = mechanicalsoup.StatefulBrowser()\n",
    "    browser.open(link)\n",
    "    browser.get_current_page()    \n",
    "    print(\"done!\\n\")\n",
    "\n",
    "\n",
    "def start_job():\n",
    "    global job\n",
    "    scheduler.add_job(ping_dash, 'interval', seconds=86400)\n",
    "    ping_dash()\n",
    "    try:\n",
    "        scheduler.start()\n",
    "    except:\n",
    "        pass\n",
    "\n",
    "start_job()\n",
    "\n",
    "\n"
   ]
  },
  {
   "cell_type": "code",
   "execution_count": null,
   "metadata": {},
   "outputs": [],
   "source": []
  }
 ],
 "metadata": {
  "kernelspec": {
   "display_name": "Python 3",
   "language": "python",
   "name": "python3"
  },
  "language_info": {
   "codemirror_mode": {
    "name": "ipython",
    "version": 3
   },
   "file_extension": ".py",
   "mimetype": "text/x-python",
   "name": "python",
   "nbconvert_exporter": "python",
   "pygments_lexer": "ipython3",
   "version": "3.7.3"
  }
 },
 "nbformat": 4,
 "nbformat_minor": 2
}
