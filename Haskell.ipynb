{
 "cells": [
  {
   "cell_type": "code",
   "execution_count": 25,
   "metadata": {},
   "outputs": [
    {
     "ename": "",
     "evalue": "",
     "output_type": "error",
     "traceback": [
      "<stdin>: hGetLine: end of file"
     ]
    }
   ],
   "source": [
    "             \n",
    "main = do putStrLn \"sag wass\"\n",
    "          repeatLine where repeatLine = do mess <- getLine\n",
    "                                           if mess == \"\" then \n",
    "                                              putStrLn \"done\"\n",
    "                                            else \n",
    "                                              do putStrLn mess\n",
    "                                                 repeatLine\n",
    "\n",
    "main"
   ]
  },
  {
   "cell_type": "code",
   "execution_count": 21,
   "metadata": {},
   "outputs": [],
   "source": [
    "filterEven [] = []\n",
    "filterEven (h:t) | even (length h) = h : filterEven t\n",
    "                 | otherwise= filterEven t\n",
    "\n",
    "\n",
    "filterEven1 = filter $ even . length\n",
    "\n",
    "filterEven2 = foldr (\\x acc -> if even (length x) then x:acc else acc) []\n",
    "\n",
    "filterEven3 = reverse . foldl (\\acc x -> if even (length x) then x:acc else acc) []\n",
    "\n",
    "filterEven4 [] = []\n",
    "filterEven4 (x:y:xs) = y: filterEven4 xs\n",
    "filterEven4 _ = []"
   ]
  },
  {
   "cell_type": "code",
   "execution_count": 22,
   "metadata": {},
   "outputs": [
    {
     "data": {
      "text/plain": [
       "[]"
      ]
     },
     "metadata": {},
     "output_type": "display_data"
    },
    {
     "data": {
      "text/plain": [
       "[]"
      ]
     },
     "metadata": {},
     "output_type": "display_data"
    },
    {
     "data": {
      "text/plain": [
       "[]"
      ]
     },
     "metadata": {},
     "output_type": "display_data"
    },
    {
     "data": {
      "text/plain": [
       "[\"b\",\"d\"]"
      ]
     },
     "metadata": {},
     "output_type": "display_data"
    }
   ],
   "source": [
    "filterEven [\"a\",\"b\",\"c\",\"d\"]\n",
    "filterEven2 [\"a\",\"b\",\"c\",\"d\"]\n",
    "filterEven3 [\"a\",\"b\",\"c\",\"d\"]\n",
    "filterEven4 [\"a\",\"b\",\"c\",\"d\"]"
   ]
  },
  {
   "cell_type": "code",
   "execution_count": 25,
   "metadata": {},
   "outputs": [
    {
     "ename": "",
     "evalue": "",
     "output_type": "error",
     "traceback": [
      "Parse error (line 1, column 1): parse error on input ‘*’"
     ]
    }
   ],
   "source": []
  }
 ],
 "metadata": {
  "kernelspec": {
   "display_name": "Haskell",
   "language": "haskell",
   "name": "haskell"
  },
  "language_info": {
   "codemirror_mode": "ihaskell",
   "file_extension": ".hs",
   "name": "haskell",
   "pygments_lexer": "Haskell",
   "version": "8.6.4"
  }
 },
 "nbformat": 4,
 "nbformat_minor": 2
}
