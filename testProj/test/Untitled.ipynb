{
 "cells": [
  {
   "cell_type": "code",
   "execution_count": 52,
   "metadata": {},
   "outputs": [
    {
     "name": "stdout",
     "output_type": "stream",
     "text": [
      "downloaded: http://www.dbs.ifi.lmu.de/Lehre/AlgoDat/SS2019/tut01.pdf\n",
      "downloaded: http://www.dbs.ifi.lmu.de/Lehre/AlgoDat/SS2019/tut01lsg.pdf\n",
      "downloaded: http://www.dbs.ifi.lmu.de/Lehre/AlgoDat/SS2019/glob03.pdf\n",
      "downloaded: http://www.dbs.ifi.lmu.de/Lehre/AlgoDat/SS2019/glob03lsg.pdf\n",
      "downloaded: http://www.dbs.ifi.lmu.de/Lehre/AlgoDat/SS2019/tut02.pdf\n",
      "downloaded: http://www.dbs.ifi.lmu.de/Lehre/AlgoDat/SS2019/tut02-lsg.pdf\n",
      "downloaded: http://www.dbs.ifi.lmu.de/Lehre/AlgoDat/SS2019/tut03.pdf\n",
      "downloaded: http://www.dbs.ifi.lmu.de/Lehre/AlgoDat/SS2019/tut03-lsg.pdf\n",
      "downloaded: http://www.dbs.ifi.lmu.de/Lehre/AlgoDat/SS2019/tut04.pdf\n",
      "downloaded: http://www.dbs.ifi.lmu.de/Lehre/AlgoDat/SS2019/performanceSorting.zip\n",
      "downloaded: http://www.dbs.ifi.lmu.de/Lehre/AlgoDat/SS2019/tut05-angabe.pdf\n",
      "downloaded: http://www.dbs.ifi.lmu.de/Lehre/AlgoDat/SS2019/tut06-angabe.pdf\n",
      "downloaded: http://www.dbs.ifi.lmu.de/Lehre/AlgoDat/SS2019/Kapitel0-Einführung.pdf\n",
      "downloaded: http://www.dbs.ifi.lmu.de/Lehre/AlgoDat/SS2019/Kapitel1-Grundlagen_.pdf\n",
      "downloaded: http://www.dbs.ifi.lmu.de/Lehre/AlgoDat/SS2019/Kapitel2-Komplexität.pdf\n",
      "downloaded: http://www.dbs.ifi.lmu.de/Lehre/AlgoDat/SS2019/Kapitel3-Sortieren.pdf\n",
      "downloaded: http://www.dbs.ifi.lmu.de/Lehre/AlgoDat/SS2019/Kapitel4-Suchen.pdf\n"
     ]
    }
   ],
   "source": [
    "import wget\n",
    "import mechanicalsoup\n",
    "\n",
    "link = \"https://dash.colarietitosti.info/uni/\"\n",
    "\n",
    "browser = mechanicalsoup.StatefulBrowser()\n",
    "browser.open(link)\n",
    "page = browser.get_current_page()\n",
    "\n",
    "for a in page.find_all(\"a\"):\n",
    "    dwnl = a[\"href\"]\n",
    "    if \"Lehre/AlgoDat\" in dwnl:\n",
    "        wget.download(dwnl)\n",
    "        print(\"downloaded: \"+dwnl)\n",
    "\n",
    "\n"
   ]
  }
 ],
 "metadata": {
  "kernelspec": {
   "display_name": "Python 3",
   "language": "python",
   "name": "python3"
  },
  "language_info": {
   "codemirror_mode": {
    "name": "ipython",
    "version": 3
   },
   "file_extension": ".py",
   "mimetype": "text/x-python",
   "name": "python",
   "nbconvert_exporter": "python",
   "pygments_lexer": "ipython3",
   "version": "3.7.3"
  }
 },
 "nbformat": 4,
 "nbformat_minor": 2
}
