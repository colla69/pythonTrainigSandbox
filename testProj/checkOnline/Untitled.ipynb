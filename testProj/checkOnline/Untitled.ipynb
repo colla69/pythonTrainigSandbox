{
 "cells": [
  {
   "cell_type": "code",
   "execution_count": 21,
   "metadata": {},
   "outputs": [
    {
     "name": "stdout",
     "output_type": "stream",
     "text": [
      "True\n",
      "True\n",
      "True\n",
      "{'https://cv.colarietitosti.info': True, 'https://plex.colarietitosti.info': True, 'https://nextcloud.colarietitosti.info': True, 'https://collabora.colarietitosti.info': False, 'https://admin.colarietitosti.info': True}\n"
     ]
    }
   ],
   "source": [
    "import os \n",
    "import mechanicalsoup\n",
    "\n",
    "\n",
    "checklist = [\n",
    "    \"https://cv.colarietitosti.info\",\n",
    "    \"https://plex.colarietitosti.info\",\n",
    "    \"https://nextcloud.colarietitosti.info\",\n",
    "    \"https://collabora.colarietitosti.info\",\n",
    "    \"https://admin.colarietitosti.info\",\n",
    "]\n",
    "\n",
    "\n",
    "def check_collabora():\n",
    "    check = os.system('curl -k \"http://collabora.colarietitosti.info:9980\"')\n",
    "    #print(check\n",
    "    print(check == 13312)\n",
    "    if 13312 == check:\n",
    "        print(\"True\")\n",
    "        return True\n",
    "    else:\n",
    "        return False\n",
    "        \n",
    "def check_online():    \n",
    "    browser = mechanicalsoup.StatefulBrowser()\n",
    "    res = {}\n",
    "    for link in checklist:\n",
    "        if link==\"https://collabora.colarietitosti.info\":\n",
    "            collabora_check = check_collabora()\n",
    "            print(collabora_check)\n",
    "            res[link] = collabora_check\n",
    "            continue\n",
    "        response = browser.open(link)        \n",
    "        if response.status_code != 502:\n",
    "            res[link] = True\n",
    "        else:\n",
    "            res[link] = False\n",
    "    return res        \n",
    "    \n",
    "p = check_online()\n",
    "print(p)"
   ]
  },
  {
   "cell_type": "code",
   "execution_count": null,
   "metadata": {},
   "outputs": [],
   "source": []
  }
 ],
 "metadata": {
  "kernelspec": {
   "display_name": "Python 3",
   "language": "python",
   "name": "python3"
  },
  "language_info": {
   "codemirror_mode": {
    "name": "ipython",
    "version": 3
   },
   "file_extension": ".py",
   "mimetype": "text/x-python",
   "name": "python",
   "nbconvert_exporter": "python",
   "pygments_lexer": "ipython3",
   "version": "3.7.3"
  }
 },
 "nbformat": 4,
 "nbformat_minor": 2
}
