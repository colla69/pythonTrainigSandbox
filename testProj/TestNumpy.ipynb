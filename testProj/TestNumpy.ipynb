{
 "cells": [
  {
   "cell_type": "code",
   "execution_count": 11,
   "metadata": {},
   "outputs": [],
   "source": [
    "\n",
    "import numpy as np \n",
    "\n",
    "arr1 = np.arange(1,1000,0.00001)"
   ]
  },
  {
   "cell_type": "code",
   "execution_count": 28,
   "metadata": {},
   "outputs": [
    {
     "name": "stdout",
     "output_type": "stream",
     "text": [
      "6393600000 Byte \n",
      "49999949500.82674\n",
      "1.0\n"
     ]
    }
   ],
   "source": [
    "\n",
    "if type(arr1[0]) == np.float64:\n",
    "    single_cell = 64\n",
    "elif type(arr1[0]) == np.float32:\n",
    "    single_cell = 32\n",
    "    \n",
    "speicher = len(arr1)*single_cell\n",
    "print(str(speicher)+\" Byte \")\n",
    "\n",
    "\"\"\"\n",
    "print( type(arr1[0]) )\n",
    "print( type(arr1[1]) )\n",
    "print( type(arr1[5]) )\n",
    "print( type(arr1[9]) )\n",
    "print( len(arr1) )                 \n",
    "print(arr1)\n",
    "arr2 =[1, 2.4,\"penis\"]\n",
    "\n",
    "print( type(arr2[0]) )\n",
    "print( type(arr2[1]) )\n",
    "print( type(arr2[2]) )\n",
    "print(arr2)\n",
    "\"\"\"\n",
    "\n",
    "print( np.sum(arr1) )\n",
    "print( arr1[0] )\n",
    "\n",
    "arrCS = []"
   ]
  },
  {
   "cell_type": "code",
   "execution_count": null,
   "metadata": {},
   "outputs": [],
   "source": []
  }
 ],
 "metadata": {
  "kernelspec": {
   "display_name": "Python 3",
   "language": "python",
   "name": "python3"
  },
  "language_info": {
   "codemirror_mode": {
    "name": "ipython",
    "version": 3
   },
   "file_extension": ".py",
   "mimetype": "text/x-python",
   "name": "python",
   "nbconvert_exporter": "python",
   "pygments_lexer": "ipython3",
   "version": "3.7.3"
  }
 },
 "nbformat": 4,
 "nbformat_minor": 2
}
