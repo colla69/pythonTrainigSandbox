{
 "cells": [
  {
   "cell_type": "code",
   "execution_count": 63,
   "metadata": {},
   "outputs": [
    {
     "data": {
      "text/html": [
       "<style>/* Styles used for the Hoogle display in the pager */\n",
       ".hoogle-doc {\n",
       "display: block;\n",
       "padding-bottom: 1.3em;\n",
       "padding-left: 0.4em;\n",
       "}\n",
       ".hoogle-code {\n",
       "display: block;\n",
       "font-family: monospace;\n",
       "white-space: pre;\n",
       "}\n",
       ".hoogle-text {\n",
       "display: block;\n",
       "}\n",
       ".hoogle-name {\n",
       "color: green;\n",
       "font-weight: bold;\n",
       "}\n",
       ".hoogle-head {\n",
       "font-weight: bold;\n",
       "}\n",
       ".hoogle-sub {\n",
       "display: block;\n",
       "margin-left: 0.4em;\n",
       "}\n",
       ".hoogle-package {\n",
       "font-weight: bold;\n",
       "font-style: italic;\n",
       "}\n",
       ".hoogle-module {\n",
       "font-weight: bold;\n",
       "}\n",
       ".hoogle-class {\n",
       "font-weight: bold;\n",
       "}\n",
       ".get-type {\n",
       "color: green;\n",
       "font-weight: bold;\n",
       "font-family: monospace;\n",
       "display: block;\n",
       "white-space: pre-wrap;\n",
       "}\n",
       ".show-type {\n",
       "color: green;\n",
       "font-weight: bold;\n",
       "font-family: monospace;\n",
       "margin-left: 1em;\n",
       "}\n",
       ".mono {\n",
       "font-family: monospace;\n",
       "display: block;\n",
       "}\n",
       ".err-msg {\n",
       "color: red;\n",
       "font-style: italic;\n",
       "font-family: monospace;\n",
       "white-space: pre;\n",
       "display: block;\n",
       "}\n",
       "#unshowable {\n",
       "color: red;\n",
       "font-weight: bold;\n",
       "}\n",
       ".err-msg.in.collapse {\n",
       "padding-top: 0.7em;\n",
       "}\n",
       ".highlight-code {\n",
       "white-space: pre;\n",
       "font-family: monospace;\n",
       "}\n",
       ".suggestion-warning { \n",
       "font-weight: bold;\n",
       "color: rgb(200, 130, 0);\n",
       "}\n",
       ".suggestion-error { \n",
       "font-weight: bold;\n",
       "color: red;\n",
       "}\n",
       ".suggestion-name {\n",
       "font-weight: bold;\n",
       "}\n",
       "</style><div class=\"suggestion-name\" style=\"clear:both;\">Redundant bracket</div><div class=\"suggestion-row\" style=\"float: left;\"><div class=\"suggestion-warning\">Found:</div><div class=\"highlight-code\" id=\"haskell\">((\\ w -> (\\ w -> w + w)) 3) 4</div></div><div class=\"suggestion-row\" style=\"float: left;\"><div class=\"suggestion-warning\">Why Not:</div><div class=\"highlight-code\" id=\"haskell\">(\\ w -> (\\ w -> w + w)) 3 4</div></div><div class=\"suggestion-name\" style=\"clear:both;\">Use const</div><div class=\"suggestion-row\" style=\"float: left;\"><div class=\"suggestion-warning\">Found:</div><div class=\"highlight-code\" id=\"haskell\">\\ w -> (\\ w -> w + w)</div></div><div class=\"suggestion-row\" style=\"float: left;\"><div class=\"suggestion-warning\">Why Not:</div><div class=\"highlight-code\" id=\"haskell\">const (\\ w -> w + w)</div></div><div class=\"suggestion-name\" style=\"clear:both;\">Collapse lambdas</div><div class=\"suggestion-row\" style=\"float: left;\"><div class=\"suggestion-warning\">Found:</div><div class=\"highlight-code\" id=\"haskell\">\\ w -> (\\ w -> w + w)</div></div><div class=\"suggestion-row\" style=\"float: left;\"><div class=\"suggestion-warning\">Why Not:</div><div class=\"highlight-code\" id=\"haskell\">\\ _ w -> w + w</div></div><div class=\"suggestion-name\" style=\"clear:both;\">Redundant bracket</div><div class=\"suggestion-row\" style=\"float: left;\"><div class=\"suggestion-warning\">Found:</div><div class=\"highlight-code\" id=\"haskell\">\\ w -> (\\ w -> w + w)</div></div><div class=\"suggestion-row\" style=\"float: left;\"><div class=\"suggestion-warning\">Why Not:</div><div class=\"highlight-code\" id=\"haskell\">\\ w -> \\ w -> w + w</div></div>"
      ],
      "text/plain": [
       "Line 1: Redundant bracket\n",
       "Found:\n",
       "((\\ w -> (\\ w -> w + w)) 3) 4\n",
       "Why not:\n",
       "(\\ w -> (\\ w -> w + w)) 3 4Line 1: Use const\n",
       "Found:\n",
       "\\ w -> (\\ w -> w + w)\n",
       "Why not:\n",
       "const (\\ w -> w + w)Line 1: Collapse lambdas\n",
       "Found:\n",
       "\\ w -> (\\ w -> w + w)\n",
       "Why not:\n",
       "\\ _ w -> w + wLine 1: Redundant bracket\n",
       "Found:\n",
       "\\ w -> (\\ w -> w + w)\n",
       "Why not:\n",
       "\\ w -> \\ w -> w + w"
      ]
     },
     "metadata": {},
     "output_type": "display_data"
    },
    {
     "data": {
      "text/plain": [
       "8"
      ]
     },
     "metadata": {},
     "output_type": "display_data"
    }
   ],
   "source": [
    "\n",
    "snd3 :: (a,b,c) -> b\n",
    "snd3 (n,m,l) = m\n",
    "\n",
    "--lambda bsp\n",
    "((\\w ->(\\w -> w+w)) 3) 4\n",
    "\n",
    "insSort :: [Int] -> [Int]\n",
    "insSort [] = []\n",
    "insSort l = insSortacc l []\n",
    "    where\n",
    "        insSortacc :: [Int] -> [Int] -> [Int]\n",
    "        insSortacc [] result     = result\n",
    "        insSortacc (a:ax) result       = insSortacc ax $ insert a result\n",
    "        insert :: Int -> [Int] -> [Int]\n",
    "        insert a [] = [a]\n",
    "        insert a (res:rest) \n",
    "           | a < res = a:res:rest\n",
    "           | a >= res = res:(insert a rest)\n",
    "\n",
    "\n",
    "   "
   ]
  },
  {
   "cell_type": "code",
   "execution_count": 64,
   "metadata": {},
   "outputs": [
    {
     "data": {
      "text/plain": [
       "[0,1,3,3,4,4,4,12]"
      ]
     },
     "metadata": {},
     "output_type": "display_data"
    }
   ],
   "source": [
    "a = snd3 (1,2,3)\n",
    "\n",
    "insSort [4,3,12,4,3,0,4,1]\n",
    "\n"
   ]
  }
 ],
 "metadata": {
  "kernelspec": {
   "display_name": "Haskell",
   "language": "haskell",
   "name": "haskell"
  },
  "language_info": {
   "codemirror_mode": "ihaskell",
   "file_extension": ".hs",
   "name": "haskell",
   "pygments_lexer": "Haskell",
   "version": "8.6.4"
  }
 },
 "nbformat": 4,
 "nbformat_minor": 2
}
