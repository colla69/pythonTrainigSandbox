{
 "cells": [
  {
   "cell_type": "code",
   "execution_count": 66,
   "metadata": {},
   "outputs": [
    {
     "ename": "LinkNotFoundError",
     "evalue": "",
     "output_type": "error",
     "traceback": [
      "\u001b[0;31m---------------------------------------------------------------------------\u001b[0m",
      "\u001b[0;31mLinkNotFoundError\u001b[0m                         Traceback (most recent call last)",
      "\u001b[0;32m<ipython-input-66-9ffd0a63c59b>\u001b[0m in \u001b[0;36m<module>\u001b[0;34m\u001b[0m\n\u001b[1;32m     54\u001b[0m \u001b[0;34m\u001b[0m\u001b[0m\n\u001b[1;32m     55\u001b[0m \u001b[0;34m\u001b[0m\u001b[0m\n\u001b[0;32m---> 56\u001b[0;31m \u001b[0mub\u001b[0m \u001b[0;34m=\u001b[0m \u001b[0mget_uebungen2\u001b[0m\u001b[0;34m(\u001b[0m\u001b[0;34m)\u001b[0m\u001b[0;34m\u001b[0m\u001b[0;34m\u001b[0m\u001b[0m\n\u001b[0m\u001b[1;32m     57\u001b[0m \u001b[0mprint\u001b[0m\u001b[0;34m(\u001b[0m\u001b[0mub\u001b[0m\u001b[0;34m)\u001b[0m\u001b[0;34m\u001b[0m\u001b[0;34m\u001b[0m\u001b[0m\n\u001b[1;32m     58\u001b[0m \u001b[0;34m\u001b[0m\u001b[0m\n",
      "\u001b[0;32m<ipython-input-66-9ffd0a63c59b>\u001b[0m in \u001b[0;36mget_uebungen2\u001b[0;34m()\u001b[0m\n\u001b[1;32m     49\u001b[0m     \u001b[0mbrowser\u001b[0m\u001b[0;34m.\u001b[0m\u001b[0mfollow_link\u001b[0m\u001b[0;34m(\u001b[0m\u001b[0;34m\"login\"\u001b[0m\u001b[0;34m)\u001b[0m\u001b[0;34m\u001b[0m\u001b[0;34m\u001b[0m\u001b[0m\n\u001b[1;32m     50\u001b[0m     \u001b[0;31m#print(browser.get_current_page())\u001b[0m\u001b[0;34m\u001b[0m\u001b[0;34m\u001b[0m\u001b[0;34m\u001b[0m\u001b[0m\n\u001b[0;32m---> 51\u001b[0;31m     \u001b[0mprint\u001b[0m\u001b[0;34m(\u001b[0m\u001b[0mbrowser\u001b[0m\u001b[0;34m.\u001b[0m\u001b[0mselect_form\u001b[0m\u001b[0;34m(\u001b[0m\u001b[0;34m'login--campus'\u001b[0m\u001b[0;34m)\u001b[0m\u001b[0;34m)\u001b[0m\u001b[0;34m\u001b[0m\u001b[0;34m\u001b[0m\u001b[0m\n\u001b[0m\u001b[1;32m     52\u001b[0m     \u001b[0;32mreturn\u001b[0m \u001b[0;34m'done'\u001b[0m\u001b[0;34m\u001b[0m\u001b[0;34m\u001b[0m\u001b[0m\n\u001b[1;32m     53\u001b[0m \u001b[0;34m\u001b[0m\u001b[0m\n",
      "\u001b[0;32m~/anaconda3/lib/python3.7/site-packages/mechanicalsoup/stateful_browser.py\u001b[0m in \u001b[0;36mselect_form\u001b[0;34m(self, selector, nr)\u001b[0m\n\u001b[1;32m    205\u001b[0m                     \u001b[0mprint\u001b[0m\u001b[0;34m(\u001b[0m\u001b[0;34m'select_form failed for'\u001b[0m\u001b[0;34m,\u001b[0m \u001b[0mselector\u001b[0m\u001b[0;34m)\u001b[0m\u001b[0;34m\u001b[0m\u001b[0;34m\u001b[0m\u001b[0m\n\u001b[1;32m    206\u001b[0m                     \u001b[0mself\u001b[0m\u001b[0;34m.\u001b[0m\u001b[0mlaunch_browser\u001b[0m\u001b[0;34m(\u001b[0m\u001b[0;34m)\u001b[0m\u001b[0;34m\u001b[0m\u001b[0;34m\u001b[0m\u001b[0m\n\u001b[0;32m--> 207\u001b[0;31m                 \u001b[0;32mraise\u001b[0m \u001b[0mLinkNotFoundError\u001b[0m\u001b[0;34m(\u001b[0m\u001b[0;34m)\u001b[0m\u001b[0;34m\u001b[0m\u001b[0;34m\u001b[0m\u001b[0m\n\u001b[0m\u001b[1;32m    208\u001b[0m             \u001b[0mself\u001b[0m\u001b[0;34m.\u001b[0m\u001b[0m__state\u001b[0m\u001b[0;34m.\u001b[0m\u001b[0mform\u001b[0m \u001b[0;34m=\u001b[0m \u001b[0mForm\u001b[0m\u001b[0;34m(\u001b[0m\u001b[0mfound_forms\u001b[0m\u001b[0;34m[\u001b[0m\u001b[0;34m-\u001b[0m\u001b[0;36m1\u001b[0m\u001b[0;34m]\u001b[0m\u001b[0;34m)\u001b[0m\u001b[0;34m\u001b[0m\u001b[0;34m\u001b[0m\u001b[0m\n\u001b[1;32m    209\u001b[0m \u001b[0;34m\u001b[0m\u001b[0m\n",
      "\u001b[0;31mLinkNotFoundError\u001b[0m: "
     ]
    }
   ],
   "source": [
    "from lxml import html\n",
    "import requests\n",
    "from bs4 import BeautifulSoup\n",
    "import mechanicalsoup\n",
    "\n",
    "\n",
    "\n",
    "\n",
    "# uebungen\n",
    "def get_uebungen():\n",
    "    payload = {'user': \"a.colarieti@campus.lmu.de\", 'pass': 'Wlafica1!'}\n",
    "    session = requests.Session()\n",
    "    \n",
    "    r = session.post(\"https://uni2work.ifi.lmu.de/auth/page/LDAP\")    \n",
    "    cookies = dict(r.cookies)\n",
    "    headers = dict(r.headers)\n",
    "\n",
    "    csrftoken = cookies['XSRF-TOKEN']\n",
    "    headers['X-XSRF-TOKEN'] = csrftoken    \n",
    "    headers['Content-Type'] = \"application/x-www-form-urlencoded\"\n",
    "    cookies['_token'] = csrftoken\n",
    "    \n",
    "    #cookies['_SESSION'] = headers['Set-Cookie'][9:301]\n",
    "    \n",
    "    #print(headers['Set-Cookie'][9:301])\n",
    "    print(headers['Set-Cookie'])\n",
    "    print('')\n",
    "    print(cookies['_SESSION'])\n",
    "    \n",
    "    login = session.post(\"https://uni2work.ifi.lmu.de/auth/page/LDAP\", \\\n",
    "                         data=payload, headers=headers, cookies=cookies)\n",
    "    print(\"\\n\"+csrftoken)\n",
    "    print(login.content)\n",
    "    print(\"login  \"+str(login.status_code))\n",
    "\n",
    "    csrftoken = cookies['XSRF-TOKEN']\n",
    "    headers['X-XSRF-TOKEN'] = csrftoken\n",
    "\n",
    "#    page = session.get(\"https://uni2work.ifi.lmu.de/course/S19/IfI/ProMo/ex\", headers=login.headers, cookies=login.cookies)\n",
    "\n",
    "    res = {}\n",
    "\n",
    "    return res\n",
    "\n",
    "# uebungen\n",
    "def get_uebungen2():\n",
    "    browser = mechanicalsoup.StatefulBrowser()\n",
    "    browser.open('https://uni2work.ifi.lmu.de')\n",
    "    browser.follow_link(\"login\")\n",
    "    #print(browser.get_current_page())\n",
    "    print(browser.select_form('form[action=\"https://uni2work.ifi.lmu.de/auth/page/LDAP\"]'))\n",
    "    return 'done'\n",
    "\n",
    "    \n",
    "    \n",
    "ub = get_uebungen2()\n",
    "print(ub)\n",
    "\n"
   ]
  },
  {
   "cell_type": "code",
   "execution_count": null,
   "metadata": {},
   "outputs": [],
   "source": []
  }
 ],
 "metadata": {
  "kernelspec": {
   "display_name": "Python 3",
   "language": "python",
   "name": "python3"
  },
  "language_info": {
   "codemirror_mode": {
    "name": "ipython",
    "version": 3
   },
   "file_extension": ".py",
   "mimetype": "text/x-python",
   "name": "python",
   "nbconvert_exporter": "python",
   "pygments_lexer": "ipython3",
   "version": "3.7.3"
  }
 },
 "nbformat": 4,
 "nbformat_minor": 2
}
