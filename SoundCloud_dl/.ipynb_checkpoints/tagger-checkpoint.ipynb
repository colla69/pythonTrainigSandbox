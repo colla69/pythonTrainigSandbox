{
 "cells": [
  {
   "cell_type": "code",
   "execution_count": 1,
   "metadata": {},
   "outputs": [
    {
     "name": "stdout",
     "output_type": "stream",
     "text": [
      "local variable 'tn' referenced before assignment\n",
      "a\n",
      "c\n",
      "b\n",
      "None\n",
      "(None, None)\n"
     ]
    }
   ],
   "source": [
    "import eyed3\n",
    "\n",
    "file = \"/media/cola/Transfer/Download/SCscrape/sven/Electrica Salsa feat. Sven Väth (Henrik Schwarz Radio Edit).mp3\"\n",
    "\n",
    "\n",
    "def make_tag(file, artist, title, album=\"\", trno=\"\", r_date=\"\"):\n",
    "    try:\n",
    "        audiofile = eyed3.load(file)\n",
    "        audiofile.initTag()\n",
    "        \n",
    "        tag = audiofile.tag\n",
    "        tag.artist = artist        \n",
    "        tag.album = album\n",
    "        tag.release_date = r_date\n",
    "        tag.title = title\n",
    "        #tag.track_num = trno\n",
    "        \n",
    "        tag.save()\n",
    "    except Exception as e:\n",
    "        print(e)\n",
    "\n",
    "        \n",
    "def print_tag(file):\n",
    "    try:\n",
    "        audiofile = eyed3.load(file)\n",
    "        tag = audiofile.tag\n",
    "        \n",
    "        print(tag.artist)\n",
    "        print(tag.album)\n",
    "        print(tag.title)\n",
    "        print(tag.release_date)\n",
    "        print(tag.track_num)\n",
    "    except Exception as e:\n",
    "        print(e)\n",
    "\n"
   ]
  },
  {
   "cell_type": "code",
   "execution_count": null,
   "metadata": {},
   "outputs": [],
   "source": []
  }
 ],
 "metadata": {
  "kernelspec": {
   "display_name": "Python 3",
   "language": "python",
   "name": "python3"
  },
  "language_info": {
   "codemirror_mode": {
    "name": "ipython",
    "version": 3
   },
   "file_extension": ".py",
   "mimetype": "text/x-python",
   "name": "python",
   "nbconvert_exporter": "python",
   "pygments_lexer": "ipython3",
   "version": "3.7.3"
  }
 },
 "nbformat": 4,
 "nbformat_minor": 2
}
