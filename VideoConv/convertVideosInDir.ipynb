{
 "cells": [
  {
   "cell_type": "code",
   "execution_count": null,
   "metadata": {
    "scrolled": true
   },
   "outputs": [
    {
     "name": "stdout",
     "output_type": "stream",
     "text": [
      "converting Lucifer.S04E01.720p.NF.WEBRip.x264-GalaxyTV.mkv\n",
      "converting Lucifer.S04E02.720p.NF.WEBRip.x264-GalaxyTV.mkv\n",
      "converting Lucifer.S04E03.720p.NF.WEBRip.x264-GalaxyTV.mkv\n",
      "converting Lucifer.S04E04.720p.NF.WEBRip.x264-GalaxyTV.mkv\n",
      "converting Lucifer.S04E05.720p.NF.WEBRip.x264-GalaxyTV.mkv\n",
      "converting Lucifer.S04E06.720p.NF.WEBRip.x264-GalaxyTV.mkv\n"
     ]
    }
   ],
   "source": [
    "\n",
    "from os import walk\n",
    "import os\n",
    "\n",
    "_content = \"tvshows\", \"movies_en\", \"movies_ita\" # \n",
    "\n",
    "serie = \"Lucifer\"  # must be folder neme\n",
    "content = _content[0] # choose content\n",
    "\n",
    "convert = 'ffmpeg -y -i \"{}\" -vcodec libx265 -x265-params crf=25 -r 30 -preset veryfast -acodec copy \"{}\"'\n",
    "convert_SMALL = 'ffmpeg -y -i \"{}\" -vcodec libx265 -x265 -params crf=20 -r 25 -preset veryfast -vf scale=420:-1 -acodec copy \"{}\"'\n",
    "mypath = \"/media/cola/Transfer/PlexContent/{}/{}/\".format(content, serie)\n",
    "done_path = \"/media/cola/Transfer/PlexContent/videoConv/{}/{}/\".format(content, serie)\n",
    "\n",
    "def safe_mkdir(path):\n",
    "    if not os.path.exists(done_path):\n",
    "        os.mkdir(done_path)\n",
    "\n",
    "safe_mkdir(done_path)        \n",
    "files = []   \n",
    "for dirName, subdirList, fileList in os.walk(mypath):\n",
    "    for f in fileList:\n",
    "        print(\"converting {}\".format(f))\n",
    "        done_f_path = done_path\n",
    "        real_f_path = dirName\n",
    "        sub_dir = real_f_path.replace(f,\"\").replace(mypath,\"\")\n",
    "        \n",
    "        if sub_dir != \"/\":\n",
    "            done_f_path += sub_dir+\"/\"\n",
    "        safe_mkdir(done_f_path)\n",
    "\n",
    "        execCMD = convert.format(\n",
    "                real_f_path+\"/\"+f ,\n",
    "                done_f_path+f[:len(f)-3]+\"mp4\"\n",
    "            )\n",
    "        #print(f)\n",
    "        #print(sub_dir)        \n",
    "        #print(execCMD)\n",
    "        \n",
    "        os.system(execCMD)\n",
    "        \n",
    "print(\"done!\", end=\"\\n\")"
   ]
  },
  {
   "cell_type": "code",
   "execution_count": null,
   "metadata": {},
   "outputs": [],
   "source": []
  }
 ],
 "metadata": {
  "kernelspec": {
   "display_name": "Python 3",
   "language": "python",
   "name": "python3"
  },
  "language_info": {
   "codemirror_mode": {
    "name": "ipython",
    "version": 3
   },
   "file_extension": ".py",
   "mimetype": "text/x-python",
   "name": "python",
   "nbconvert_exporter": "python",
   "pygments_lexer": "ipython3",
   "version": "3.7.3"
  }
 },
 "nbformat": 4,
 "nbformat_minor": 2
}
