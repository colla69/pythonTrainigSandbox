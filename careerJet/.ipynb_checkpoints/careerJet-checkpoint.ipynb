{
 "cells": [
  {
   "cell_type": "code",
   "execution_count": 27,
   "metadata": {},
   "outputs": [
    {
     "name": "stdout",
     "output_type": "stream",
     "text": [
      "Programmatore Java back end\n",
      "/job/a8d6d5d24c40dc83bfbb6c67d62e7ec1.html\n",
      "<div class=\"company_compact\">PA Advanced Business Solutions</div>\n",
      "\n",
      "Bologna\n",
      "\n",
      "\n",
      "PROGRAMMATORE - SOFTWARISTA PLC MOTION\n",
      "/job/2ca6cd06154d73ac8e257456b31b11dd.html\n",
      "<div class=\"company_compact\">Adecco</div>\n",
      "\n",
      "Bologna\n",
      "\n",
      "\n",
      "FRESATORE - PROGRAMMATORE CNC\n",
      "/job/39b3e4ade7b280d4228aff63beb6c5ac.html\n",
      "<div class=\"company_compact\">Adecco</div>\n",
      "\n",
      "Bologna\n",
      "\n",
      "\n",
      "PROGRAMMATORE JAVA\n",
      "/job/5bb313fd81dc43540847212e1a03ff77.html\n",
      "<div class=\"company_compact\">Action ICT Srl</div>\n",
      "\n",
      "Bologna\n",
      "\n",
      "\n",
      "Tornitore programmatore a Castel maggiore\n",
      "/job/edf2fcd2070cd6b12c6bc323c2ad46a7.html\n",
      "<div class=\"company_compact\">Areajob</div>\n",
      "\n",
      "Castel Maggiore, Bologna\n",
      "\n",
      "\n",
      "ANALISTA PROGRAMMATORE .NET\n",
      "/job/0d607c5cceeeeac4547a5ac4ec6a8ef9.html\n",
      "<div class=\"company_compact\">Sphera Group</div>\n",
      "\n",
      "Terni - Bologna\n",
      "\n",
      "\n",
      "PROGRAMMATORE DELPHI\n",
      "/job/2d5e97c807996d078a51b558a56edcce.html\n",
      "<div class=\"company_compact\">G&amp;P Servizi Informatici</div>\n",
      "\n",
      "Milano - Bologna\n",
      "\n",
      "\n",
      "ANALISTA PROGRAMMATORE .NET\n",
      "/job/82e649b5274be52b20a58367684284d0.html\n",
      "<div class=\"company_compact\">Sphera Group</div>\n",
      "\n",
      "Bologna\n",
      "\n",
      "\n"
     ]
    }
   ],
   "source": [
    "import mechanicalsoup\n",
    "\n",
    "def get_careerjet_jobs():\n",
    "    link = \"https://www.careerjet.it/wcerca/lavoro?s=programmatore&l=Bologna&lid=41991&ct=p&nw=1\"\n",
    "    browser = mechanicalsoup.StatefulBrowser()\n",
    "    browser.open(link)\n",
    "    page = browser.get_current_page()\n",
    "    divs = page.find_all(\"div\", class_=\"job display-new-job clickable\") \n",
    "    divs.append(page.find(\"div\", class_=\"job display-new-job clickable first\"))\n",
    "    for div in divs:\n",
    "        print(div.find(\"a\",class_=\"title-company\").text)\n",
    "        print(div.find(\"a\",class_=\"title-company\")[\"href\"])\n",
    "        print(div.find(\"div\",class_=\"company_compact\"))\n",
    "        print(div.find(\"div\",class_=\"locations_compact\").text)\n",
    "        print(\"\")\n",
    "        #print(div)\n",
    "        #break\n",
    "    \n",
    "get_careerjet_jobs()"
   ]
  },
  {
   "cell_type": "code",
   "execution_count": null,
   "metadata": {},
   "outputs": [],
   "source": []
  }
 ],
 "metadata": {
  "kernelspec": {
   "display_name": "Python 3",
   "language": "python",
   "name": "python3"
  },
  "language_info": {
   "codemirror_mode": {
    "name": "ipython",
    "version": 3
   },
   "file_extension": ".py",
   "mimetype": "text/x-python",
   "name": "python",
   "nbconvert_exporter": "python",
   "pygments_lexer": "ipython3",
   "version": "3.7.3"
  }
 },
 "nbformat": 4,
 "nbformat_minor": 2
}
