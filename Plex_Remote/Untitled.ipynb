{
 "cells": [
  {
   "cell_type": "code",
   "execution_count": 6,
   "metadata": {},
   "outputs": [
    {
     "name": "stdout",
     "output_type": "stream",
     "text": [
      "Music\n",
      "Music_\n",
      "TV Shows\n"
     ]
    }
   ],
   "source": [
    "\n",
    "# X - Plex - Token = y9pLd6uPWXpwbw14sRYf\n",
    "# http://plex.colarietitosti.info/library/sections/2/all?X-Plex-Token=y9pLd6uPWXpwbw14sRYf\n",
    "# http://plex.colarietitosti.info/library/sections?X-Plex-Token=y9pLd6uPWXpwbw14sRYf\n",
    "import xml.etree.ElementTree as ET\n",
    "import requests\n",
    "from collections import defaultdict\n",
    "from json import load, dump\n",
    "\n",
    "from plexapi.myplex import MyPlexAccount\n",
    "from plexapi.server import PlexServer\n",
    "\n",
    "\n",
    "\n",
    "token = \"y9pLd6uPWXpwbw14sRYf\"\n",
    "plexurl = \"http://plex.colarietitosti.info:32400\"\n",
    "\n",
    "def get_tokenized_uri(uri):\n",
    "    return plexurl+uri+\"?X-Plex-Token=\"+token\n",
    "\n",
    "\n",
    "xml = requests.get(get_tokenized_uri(\"/library/sections\")).text\n",
    "root = ET.fromstring(xml)\n",
    "artisturi = \"\"\n",
    "for child in root:\n",
    "    print(child.attrib[\"title\"])"
   ]
  }
 ],
 "metadata": {
  "kernelspec": {
   "display_name": "Python 3",
   "language": "python",
   "name": "python3"
  },
  "language_info": {
   "codemirror_mode": {
    "name": "ipython",
    "version": 3
   },
   "file_extension": ".py",
   "mimetype": "text/x-python",
   "name": "python",
   "nbconvert_exporter": "python",
   "pygments_lexer": "ipython3",
   "version": "3.7.3"
  }
 },
 "nbformat": 4,
 "nbformat_minor": 2
}
