{
 "cells": [
  {
   "cell_type": "code",
   "execution_count": null,
   "metadata": {
    "pycharm": {
     "is_executing": false
    }
   },
   "outputs": [
    {
     "name": "stdout",
     "output_type": "stream",
     "text": [
      "importing Jupyter notebook from SpeedTest.ipynb\n",
      "start\n",
      "{'download': 91174665.50848195, 'upload': 32375892.3607273, 'ping': 15.009, 'server': {'url': 'http://speedtest.net-d-sign.de:8080/speedtest/upload.php', 'lat': '48.2489', 'lon': '11.6532', 'name': 'Garching', 'country': 'Germany', 'cc': 'DE', 'sponsor': 'Net-D-Sign GmbH', 'id': '8908', 'url2': 'http://sp2.net-d-sign.de/upload.php', 'host': 'speedtest.net-d-sign.de:8080', 'd': 12.133542045422844, 'latency': 15.009}, 'timestamp': '2019-09-07T15:32:24.147117Z', 'bytes_sent': 40607744, 'bytes_received': 114237722, 'share': None, 'client': {'ip': '95.118.0.221', 'lat': '48.1497', 'lon': '11.585', 'isp': 'O2 Deutschland', 'isprating': '3.7', 'rating': '0', 'ispdlavg': '0', 'ispulavg': '0', 'loggedin': '0', 'country': 'DE'}}\n",
      "done\n"
     ]
    }
   ],
   "source": [
    "import sys \n",
    "from apscheduler.schedulers.background import BlockingScheduler\n",
    "from json import dump, load\n",
    "import import_ipynb\n",
    "from SpeedTest import *\n",
    "\n",
    "\n",
    "def json_save(data, fname):\n",
    "    with open(fname, 'w') as fp:\n",
    "        dump(data, fp)\n",
    "\n",
    "\n",
    "def json_load(fname):\n",
    "    with open(fname, 'r') as fp:\n",
    "        return load(fp)\n",
    "\n",
    "\n",
    "\n",
    "def text_and_save_result():\n",
    "    # result = shell()\n",
    "    print(\"start\")\n",
    "    s = Speedtest()\n",
    "    s.get_servers()\n",
    "    s.get_best_server()\n",
    "    s.download()\n",
    "    s.upload()\n",
    "    result = s.results.dict()\n",
    "    print(result)\n",
    "    now = datetime.datetime.now()\n",
    "    nowStr = now.strftime(\"%Y%m%d_%H_%M_%S\")\n",
    "    down = result['download']\n",
    "    upload = result['upload']\n",
    "    ping = result['ping']\n",
    "    serv = result['server']\n",
    "    client = result['client']\n",
    "    json = {\n",
    "        \"time\": nowStr,\n",
    "        \"download\": down,\n",
    "        \"upload\": upload,\n",
    "        \"latency\": ping,\n",
    "        \"server\": serv,\n",
    "        \"client\": client\n",
    "    }\n",
    "    path = os.getcwd()\n",
    "    path += \"/out/\"\n",
    "    if not os.path.exists(path):\n",
    "        os.mkdir(path)\n",
    "    json_save(result, path+nowStr+\".json\")\n",
    "    print(\"done\")\n",
    "\n",
    "\n",
    "scheduler = BlockingScheduler()\n",
    "job = None\n",
    "def start_job():\n",
    "    global job\n",
    "    scheduler.add_job(text_and_save_result, 'interval', seconds=5000)\n",
    "    text_and_save_result()\n",
    "    try:\n",
    "        scheduler.start()\n",
    "    except:\n",
    "        pass\n",
    "\n",
    "\n",
    "def main():\n",
    "    try:\n",
    "        start_job()\n",
    "    except KeyboardInterrupt:\n",
    "        printer('\\nCancelling...', error=True)\n",
    "    except (SpeedtestException, SystemExit):\n",
    "        e = get_exception()\n",
    "        # Ignore a successful exit, or argparse exit\n",
    "        if getattr(e, 'code', 1) not in (0, 2):\n",
    "            msg = '%s' % e\n",
    "            if not msg:\n",
    "                msg = '%r' % e\n",
    "            raise SystemExit('ERRORtz: %s' % msg)\n",
    "\n",
    "\n",
    "if __name__ == '__main__':\n",
    "    main()\n",
    " "
   ]
  },
  {
   "cell_type": "code",
   "execution_count": null,
   "metadata": {},
   "outputs": [],
   "source": []
  }
 ],
 "metadata": {
  "kernelspec": {
   "display_name": "Python 3",
   "language": "python",
   "name": "python3"
  },
  "language_info": {
   "codemirror_mode": {
    "name": "ipython",
    "version": 3
   },
   "file_extension": ".py",
   "mimetype": "text/x-python",
   "name": "python",
   "nbconvert_exporter": "python",
   "pygments_lexer": "ipython3",
   "version": "3.6.3"
  },
  "pycharm": {
   "stem_cell": {
    "cell_type": "raw",
    "metadata": {
     "collapsed": false
    },
    "source": []
   }
  }
 },
 "nbformat": 4,
 "nbformat_minor": 4
}
