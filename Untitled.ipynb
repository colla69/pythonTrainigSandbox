{
 "cells": [
  {
   "cell_type": "code",
   "execution_count": 22,
   "metadata": {
    "scrolled": true
   },
   "outputs": [],
   "source": [
    "import eyed3\n",
    "\n",
    "file = \"/media/cola/Transfer/Download/SCscrape/sven/Electrica Salsa feat. Sven Väth (Henrik Schwarz Radio Edit).mp3\"\n",
    "try:\n",
    "    audiofile = eyed3.load(file)\n",
    "    audiofile.initTag()\n",
    "\n",
    "    tag = audiofile.tag\n",
    "    tag.artist = u\"Integrity\"\n",
    "    tag.album = u\"Humanity Is The Devil\"\n",
    "    tag.album_artist = u\"Integrity\"\n",
    "    tag.title = u\"Hollow\"\n",
    "    tag.track_num = 2\n",
    "    tag.save()\n",
    "    \n",
    "    \n",
    "except Exception as e:\n",
    "    print(e)\n",
    "                "
   ]
  },
  {
   "cell_type": "code",
   "execution_count": null,
   "metadata": {},
   "outputs": [],
   "source": []
  }
 ],
 "metadata": {
  "kernelspec": {
   "display_name": "Python 3",
   "language": "python",
   "name": "python3"
  },
  "language_info": {
   "codemirror_mode": {
    "name": "ipython",
    "version": 3
   },
   "file_extension": ".py",
   "mimetype": "text/x-python",
   "name": "python",
   "nbconvert_exporter": "python",
   "pygments_lexer": "ipython3",
   "version": "3.7.3"
  }
 },
 "nbformat": 4,
 "nbformat_minor": 2
}
